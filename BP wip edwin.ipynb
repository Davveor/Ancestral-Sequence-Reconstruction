{
 "cells": [
  {
   "cell_type": "code",
   "execution_count": 1,
   "id": "4018fd67-b8eb-4050-9456-c52c38fd8ba7",
   "metadata": {},
   "outputs": [
    {
     "data": {
      "text/plain": [
       "compute_magnitudes (generic function with 1 method)"
      ]
     },
     "execution_count": 1,
     "metadata": {},
     "output_type": "execute_result"
    }
   ],
   "source": [
    "using LinearAlgebra, Distributions\n",
    "include(\"tree_simulation_v2.jl\")\n",
    "include(\"compute_magnitudes_of_the_dynamics.jl\")"
   ]
  },
  {
   "cell_type": "code",
   "execution_count": 2,
   "id": "80598fed-3741-4aca-a6d7-e69b47a71449",
   "metadata": {},
   "outputs": [
    {
     "data": {
      "text/plain": [
       "fill_adj (generic function with 1 method)"
      ]
     },
     "execution_count": 2,
     "metadata": {},
     "output_type": "execute_result"
    }
   ],
   "source": [
    "#SOlo se tienen en cuenta los nodos internos para la reconstruccion\n",
    "function fill_adj(k::Int64, c::Int64)\n",
    "    # Total number of nodes in a complete tree with branching factor c and k+1 levels (excluding leaves).\n",
    "    internal_nodes = (c^k - 1) ÷ (c - 1)\n",
    "    \n",
    "    # Initialize an adjacency list as a dictionary, only for internal nodes.\n",
    "    adj_list = Dict{Int64, Array{Int64, 1}}()\n",
    "\n",
    "    # Initialize the adjacency list for each internal node in the tree.\n",
    "    for node in 0:internal_nodes-1\n",
    "        adj_list[node] = Int64[]\n",
    "    end\n",
    "\n",
    "    # Build the adjacency list by linking each node to its children and setting parent relationships.\n",
    "    for node in 0:internal_nodes-1\n",
    "        for i in 1:c\n",
    "            child = c * node + i\n",
    "            if child < internal_nodes\n",
    "                # Add the child node to the current node's list of children.\n",
    "                push!(adj_list[node], child)\n",
    "                push!(adj_list[child], node)\n",
    "            end\n",
    "        end\n",
    "    end\n",
    "\n",
    "    # Return the completed adjacency list for internal nodes only.\n",
    "    return adj_list\n",
    "end\n"
   ]
  },
  {
   "cell_type": "code",
   "execution_count": 5,
   "id": "4d381b7f-353a-4624-8b23-c466f1c07fdd",
   "metadata": {},
   "outputs": [
    {
     "data": {
      "text/plain": [
       "1.0"
      ]
     },
     "execution_count": 5,
     "metadata": {},
     "output_type": "execute_result"
    }
   ],
   "source": [
    "# Parámetros\n",
    "q = 2  # número de estados\n",
    "L = 10  # longitud de la secuencia\n",
    "r = 3  # conectividad\n",
    "k = 9  # profundidad del árbol k+1\n",
    "c = 2  # número de descendientes por nodo\n",
    "β = 0.1  # inverso de la temperatura\n",
    "t = rand(1:9, k+1)  # tiempos evolutivos\n",
    "\n",
    "# Crear el diccionario con Symbol como claves\n",
    "tree_params = Dict{Symbol, Any}()\n",
    "\n",
    "# Llenar el diccionario con los valores dados\n",
    "tree_params[:q] = q\n",
    "tree_params[:L] = L\n",
    "tree_params[:r] = r\n",
    "tree_params[:k] = k\n",
    "tree_params[:c] = c\n",
    "tree_params[:β] = β\n",
    "tree_params[:times] = t\n",
    "\n",
    "gamma = 1.0"
   ]
  },
  {
   "cell_type": "code",
   "execution_count": 7,
   "id": "5803a389-cfab-42dd-ad9e-9144bd841e34",
   "metadata": {},
   "outputs": [
    {
     "data": {
      "text/plain": [
       "Dict{Int64, Vector{Int64}} with 511 entries:\n",
       "  56  => [27, 113, 114]\n",
       "  35  => [17, 71, 72]\n",
       "  425 => [212]\n",
       "  429 => [214]\n",
       "  60  => [29, 121, 122]\n",
       "  220 => [109, 441, 442]\n",
       "  308 => [153]\n",
       "  67  => [33, 135, 136]\n",
       "  215 => [107, 431, 432]\n",
       "  73  => [36, 147, 148]\n",
       "  319 => [159]\n",
       "  251 => [125, 503, 504]\n",
       "  115 => [57, 231, 232]\n",
       "  112 => [55, 225, 226]\n",
       "  185 => [92, 371, 372]\n",
       "  348 => [173]\n",
       "  420 => [209]\n",
       "  404 => [201]\n",
       "  365 => [182]\n",
       "  417 => [208]\n",
       "  333 => [166]\n",
       "  86  => [42, 173, 174]\n",
       "  168 => [83, 337, 338]\n",
       "  364 => [181]\n",
       "  207 => [103, 415, 416]\n",
       "  ⋮   => ⋮"
      ]
     },
     "execution_count": 7,
     "metadata": {},
     "output_type": "execute_result"
    }
   ],
   "source": [
    "adj_list = fill_adj(k,c);"
   ]
  },
  {
   "cell_type": "code",
   "execution_count": 9,
   "id": "30a38009-46bb-4470-bfb8-1b8831d5a36b",
   "metadata": {
    "scrolled": true
   },
   "outputs": [
    {
     "name": "stdout",
     "output_type": "stream",
     "text": [
      "  6.266041 seconds (4.57 M allocations: 306.797 MiB, 4.23% gc time, 99.57% compilation time)\n"
     ]
    }
   ],
   "source": [
    "@time tree, leaves, C, data_mean = run_simulation(tree_params);"
   ]
  },
  {
   "cell_type": "code",
   "execution_count": null,
   "id": "da5fbf09-7dbc-42f5-9f98-f6c4e752d084",
   "metadata": {},
   "outputs": [],
   "source": [
    "@time times, Lambda, Sigma, J, H, h = compute_magnitudes(tree, leaves, C, gamma, t, q, L);"
   ]
  },
  {
   "cell_type": "code",
   "execution_count": null,
   "id": "54a6a504-98c7-45fa-82fd-9759b9d6125f",
   "metadata": {},
   "outputs": [],
   "source": [
    "function edges(tree::Dict{Int64,Dict{Symbol,Any}})\n",
    "    upward_edges = Array{Tuple{Int64,Int64},1}()\n",
    "    downward_edges = Array{Tuple{Int64,Int64},1}()\n",
    "    #max_node = maximum(keys(tree))\n",
    "    internal_nodes = [node for (node,info) in tree if !info[:leaf]]\n",
    "    max_node = maximum(internal_nodes)\n",
    "    \n",
    "    for (node,info) in tree\n",
    "        if !info[:leaf] # Solo proceder si no es hoja\n",
    "            for child in info[:children]\n",
    "                if child <= max_node\n",
    "                    push!(upward_edges, (child, node))\n",
    "                    push!(downward_edges, (node, child))\n",
    "                end\n",
    "            end\n",
    "        end\n",
    "    end\n",
    "    return upward_edges, downward_edges\n",
    "end "
   ]
  },
  {
   "cell_type": "markdown",
   "id": "bdd7844c-74ad-4f33-b505-d41f9838cdb8",
   "metadata": {},
   "source": [
    "# Definir magnitudes necesarias para correr BP\n"
   ]
  },
  {
   "cell_type": "code",
   "execution_count": null,
   "id": "79469118-ea79-42c6-95ab-23b5ba092acf",
   "metadata": {},
   "outputs": [],
   "source": [
    "# media y matriz de precision correspondientes al termino que depende unicamente de x_i\n",
    "function local_parameters(tree::Dict{Int64,Dict{Symbol,Any}}, H::Dict{Int64,Array{Float64,2}}, h::Dict{Int64,Array{Float64,1}})\n",
    "\n",
    "    mu_local = Dict{Int64, Array{ Float64, 1}}()\n",
    "    inv_sigma_local = Dict{Int64, Array{ Float64, 2}}()\n",
    "\n",
    "    for node in keys(tree)\n",
    "        if tree[node][:leaf]\n",
    "            continue\n",
    "        end\n",
    "        H_inv = inv(H[node])\n",
    "        \n",
    "        mu_local[node] = -0.5*H_inv*h[node]\n",
    "        inv_sigma_local[node] = -0.5*H_inv\n",
    "\n",
    "    end\n",
    "    return mu_local, inv_sigma_local\n",
    "end     "
   ]
  },
  {
   "cell_type": "code",
   "execution_count": null,
   "id": "c8162b03-5f45-4150-a0ab-23e9ed2f5517",
   "metadata": {},
   "outputs": [],
   "source": [
    "function init_messages!(message_mean::Dict{Tuple{ Int64, Int64}, Array{ Float64, 1}},\n",
    "        inv_message_precision::Dict{Tuple{ Int64, Int64}, Array{ Float64, 2}},\n",
    "        tree::Dict{Int64,Dict{Symbol,Any}},\n",
    "        q::Int64,\n",
    "        L::Int64\n",
    "    )\n",
    "\n",
    "    #=\n",
    "    Ajustar luego la forma de iniciar los mensajes, \n",
    "    lei que tambien se pueden iniciar con valores empiricos extraidos de los datos, \n",
    "    como la media y la matriz de correlacion empiricas.\n",
    "    =#\n",
    "    for i in keys(tree)\n",
    "        if tree[i][:leaf]\n",
    "            continue\n",
    "        end\n",
    "        \n",
    "        for j in keys(tree)\n",
    "            if tree[j][:leaf]\n",
    "                continue\n",
    "            end\n",
    "            \n",
    "            message_mean[i,j] = zeros(q*L)\n",
    "            inv_message_precision[i,j] = Matrix(I, q*L, q*L)\n",
    "\n",
    "        end\n",
    "    end \n",
    "end       \n",
    "\n",
    "# Mensaje de i a j\n",
    "function update_messages!(i,j,\n",
    "        message_mean::Dict{Tuple{ Int64, Int64}, Array{ Float64, 1}},\n",
    "        inv_message_precision::Dict{Tuple{ Int64, Int64}, Array{ Float64, 2}},\n",
    "        mu_local::Dict{Int64, Array{ Float64, 1}},\n",
    "        inv_sigma_local::Dict{Int64, Array{ Float64, 2}},\n",
    "        J::Dict{Tuple{Int64,Int64},Array{Float64,2}},\n",
    "        adj_list::Dict{Int64,Array{Int64,1}} \n",
    "    )\n",
    "    neightborgs_sum_presition = sum(inv_message_precision[k,i] for k in adj_list[i] if k != j; init=zeros(size(inv_message_precision[i,j])))\n",
    "    inv_message_precision[i,j] = -(J[i,j])^2*inv(inv_sigma_local[i] + neightborgs_sum_presition)\n",
    "\n",
    "    neightborgs_sum_mean = sum(inv_message_precision[k,i]*message_mean[k,i] for k in adj_list[i] if k != j; init=zeros(size(message_mean[i,j])))\n",
    "    message_mean[i,j]= -inv(J[i,j])*(inv_sigma_local[i]*mu_local[i] + neightborgs_sum_mean)\n",
    "    \n",
    "end\n",
    "\n",
    "# Esta funcion hace un primer pase donde recoge los mensajes enviados desde los nodos hijos a los padres y luego se hace la actualizacion de los mensajes en sentido contrario\n",
    "function sweep!(upward_edges::Array{Tuple{Int64,Int64},1},\n",
    "        downward_edges::Array{Tuple{Int64,Int64},1},\n",
    "        message_mean::Dict{Tuple{ Int64, Int64}, Array{ Float64, 1}},\n",
    "        inv_message_precision::Dict{Tuple{ Int64, Int64}, Array{ Float64, 2}},\n",
    "        mu_local::Dict{Int64, Array{ Float64, 1}},\n",
    "        inv_sigma_local::Dict{Int64, Array{ Float64, 2}},\n",
    "        J::Dict{Tuple{Int64,Int64},Array{Float64,2}},\n",
    "        adj_list::Dict{Int64,Array{Int64,1}} \n",
    "    )\n",
    "\n",
    "    for (child_u,parent_u) in upward_edges\n",
    "        update_messages!(child_u, parent_u, message_mean, inv_message_precision, mu_local, inv_sigma_local, J, adj_list)\n",
    "    end \n",
    "\n",
    "    for (parent_d,child_d) in downward_edges\n",
    "        update_messages!(parent_d, child_d, message_mean, inv_message_precision, mu_local, inv_sigma_local, J, adj_list)\n",
    "    end   \n",
    "\n",
    "end\n",
    "\n",
    "function message_passing(tree::Dict{Int64,Dict{Symbol,Any}},\n",
    "        adj_list::Dict{Int64,Array{Int64,1}},\n",
    "        mu_local::Dict{Int64, Array{ Float64, 1}},\n",
    "        inv_sigma_local::Dict{Int64, Array{ Float64, 2}},  \n",
    "        J::Dict{Tuple{Int64,Int64},Array{Float64,2}},\n",
    "        q::Int64,\n",
    "        L::Int64\n",
    "    )\n",
    "    message_mean = Dict{Tuple{ Int64, Int64}, Array{ Float64, 1}}()\n",
    "    inv_message_precision = Dict{Tuple{ Int64, Int64}, Array{ Float64, 2}}()\n",
    "\n",
    "    upward_edges, downward_edges = edges(tree) \n",
    "    mu_local, inv_sigma_local = local_parameters(tree, H, h) # parametros del campo local\n",
    "    \n",
    "    init_messages!(message_mean, inv_message_precision, tree, q, L)\n",
    "    sweep!(upward_edges, downward_edges, message_mean, inv_message_precision, mu_local, inv_sigma_local, J, adj_list)\n",
    "   \n",
    "    return message_mean, inv_message_precision\n",
    "end"
   ]
  },
  {
   "cell_type": "code",
   "execution_count": null,
   "id": "37fbe6ee-b80c-42b7-a533-fbae3dd6373f",
   "metadata": {},
   "outputs": [],
   "source": [
    "function compute_Marginals(tree::Dict{Int64,Dict{Symbol,Any}},\n",
    "        adj_list::Dict{Int64,Array{Int64,1}},\n",
    "        message_mean::Dict{Tuple{ Int64, Int64}, Array{ Float64, 1}},\n",
    "        inv_message_precision::Dict{Tuple{ Int64, Int64}, Array{ Float64, 2}},\n",
    "        mu_local::Dict{Int64, Array{ Float64, 1}},\n",
    "        inv_sigma_local::Dict{Int64, Array{ Float64, 2}},        \n",
    "        q::Int64,\n",
    "        L::Int64\n",
    "    )\n",
    "    marginal_mean = Dict{Int64, Array{ Float64, 1}}()\n",
    "    marginal_precision = Dict{Int64, Array{ Float64, 2}}()\n",
    "\n",
    "    for node in keys(tree)\n",
    "        if tree[node][:leaf]\n",
    "            continue\n",
    "        end\n",
    "        #inversa de la matriz de correlacion\n",
    "        neightborgs_sum_precision = sum(inv_message_precision[k,node] for k in adj_list[node]; init=zeros(q*L,q*L))\n",
    "        marginal_precision[node] =  inv_sigma_local[node] + neightborgs_sum_precision\n",
    "\n",
    "        # Forzar que la matriz de precisión marginal sea simétrica\n",
    "        marginal_precision[node] = (marginal_precision[node] + marginal_precision[node]') / 2\n",
    "\n",
    "\n",
    "        neightborgs_sum_precision =  sum(inv_message_precision[k,node]*message_mean[k,node] for k in adj_list[node]; init=zeros(q*L))\n",
    "        marginal_mean[node] = inv(marginal_precision[node])*(inv_sigma_local[node]*mu_local[node] + neightborgs_sum_precision)\n",
    "    end\n",
    "\n",
    "    return marginal_mean, marginal_precision\n",
    "end"
   ]
  },
  {
   "cell_type": "code",
   "execution_count": null,
   "id": "410f34ae-79e8-4a23-8161-88ae1096264b",
   "metadata": {},
   "outputs": [],
   "source": [
    "function sample_from_marginals(tree::Dict{Int64,Dict{Symbol,Any}},\n",
    "        marginal_mean::Dict{Int64, Array{ Float64, 1}},\n",
    "        marginal_precision::Dict{Int64, Array{ Float64, 2}},\n",
    "        data_mean::Array{Float64,1}\n",
    "    )\n",
    "    Infered_seq = Dict{Int64, Array{Float64,1}}()\n",
    "\n",
    "    internal_nodes = [node for (node,info) in tree if !info[:leaf]]\n",
    "    max_node = maximum(internal_nodes)\n",
    "\n",
    "    for node in 0:max_node\n",
    "        mean = marginal_mean[node]\n",
    "        covariance = inv(marginal_precision[node])\n",
    "        \n",
    "        dist = MvNormal( mean, (covariance*covariance')/2)\n",
    "\n",
    "        # Samplear un vector\n",
    "        sample = rand(dist)\n",
    "        \n",
    "        # Sumar el valor de global_mean a cada componente del vector sampleado\n",
    "        sample_shifted = sample .+ data_mean \n",
    "        #sample_shifted = sample + gloabal_mean \n",
    "\n",
    "        Infered_seq[node] = sample_shifted\n",
    "    end\n",
    "    return Infered_seq\n",
    "end \n",
    "\n",
    "# Al parecer hay algun problema porque por ejemplo la matriz de precision para el nodo raiz queda casi igual a la matriz de covarianza empirica, \n",
    "# segun tengo entendido las matrices que precision las inversas de las de covarianza. \n",
    "function sample_wrong(tree::Dict{Int64,Dict{Symbol,Any}},\n",
    "        marginal_mean::Dict{Int64, Array{ Float64, 1}},\n",
    "        marginal_precision::Dict{Int64, Array{ Float64, 2}},\n",
    "        data_mean::Array{Float64,1}\n",
    "    )\n",
    "    Infered_seq = Dict{Int64, Array{Float64,1}}()\n",
    "\n",
    "    internal_nodes = [node for (node,info) in tree if !info[:leaf]]\n",
    "    max_node = maximum(internal_nodes)\n",
    "\n",
    "    for node in 0:max_node\n",
    "        mean = marginal_mean[node]\n",
    "        covariance = marginal_precision[node]\n",
    "        \n",
    "        dist = MvNormal( mean, covariance)\n",
    "\n",
    "        # Samplear un vector\n",
    "        sample = rand(dist)\n",
    "        \n",
    "        # Sumar el valor de global_mean a cada componente del vector sampleado\n",
    "        sample_shifted = sample .+ data_mean \n",
    "        #sample_shifted = sample + gloabal_mean \n",
    "\n",
    "        Infered_seq[node] = sample_shifted\n",
    "    end\n",
    "    return Infered_seq\n",
    "end "
   ]
  },
  {
   "cell_type": "code",
   "execution_count": null,
   "id": "ff4574c6-c8a6-4a45-a268-82c598dd1a5c",
   "metadata": {},
   "outputs": [],
   "source": [
    "mu_local, inv_sigma_local = local_parameters(tree, H, h); # parametros del campo local\n",
    "@time message_mean, inv_message_precision = message_passing(tree, adj_list, mu_local, inv_sigma_local, J, q, L);"
   ]
  },
  {
   "cell_type": "code",
   "execution_count": null,
   "id": "d3c5fc11-5684-4336-9ed4-3a0b90da9fad",
   "metadata": {},
   "outputs": [],
   "source": [
    "marginal_mean, marginal_precision = compute_Marginals(tree, adj_list, message_mean, inv_message_precision, mu_local, inv_sigma_local, q, L)"
   ]
  },
  {
   "cell_type": "code",
   "execution_count": null,
   "id": "7dd83e90-7ca9-4e10-9dd3-10f5f76635c8",
   "metadata": {},
   "outputs": [],
   "source": [
    "function check_symmetric_matrices(dict)\n",
    "    for (key, matrix) in dict\n",
    "        # Verificar si la matriz es simétrica utilizando issymmetric\n",
    "        if !issymmetric(matrix)\n",
    "            println(\"La matriz asociada a la clave '$key' no es simétrica.\")\n",
    "        end\n",
    "    end\n",
    "end"
   ]
  },
  {
   "cell_type": "code",
   "execution_count": null,
   "id": "0a8cea92-c286-4461-86a0-33cd17f3fc5d",
   "metadata": {},
   "outputs": [],
   "source": [
    "check_symmetric_matrices(marginal_precision)"
   ]
  },
  {
   "cell_type": "code",
   "execution_count": null,
   "id": "f1141a03-72ac-4c85-9586-fd087984caa7",
   "metadata": {},
   "outputs": [],
   "source": [
    "eigvals_A = eigen(marginal_precision[5]).values\n",
    "\n",
    "# Imprimir los autovalores\n",
    "println(\"Autovalores de la matriz:\")\n",
    "println(eigvals_A)\n",
    "\n",
    "# Verificar si todos los autovalores son positivos\n",
    "if all(eigvals_A .> 0)\n",
    "    println(\"La matriz es definida positiva\")\n",
    "else\n",
    "    println(\"La matriz no es definida positiva\")\n",
    "end"
   ]
  },
  {
   "cell_type": "code",
   "execution_count": null,
   "id": "ece76278-d6c3-4c01-a25d-40526953dffc",
   "metadata": {},
   "outputs": [],
   "source": [
    "inv(marginal_precision[0])"
   ]
  },
  {
   "cell_type": "code",
   "execution_count": null,
   "id": "0edd0efd-0c93-4c52-8771-c9c1a1bd5e74",
   "metadata": {},
   "outputs": [],
   "source": [
    "marginal_precision[0]"
   ]
  },
  {
   "cell_type": "code",
   "execution_count": null,
   "id": "9171cfa8-e076-4110-aedf-c85cd932a4d1",
   "metadata": {},
   "outputs": [],
   "source": [
    "Infered_seq = sample_from_marginals(tree, marginal_mean, marginal_precision, data_mean)"
   ]
  },
  {
   "cell_type": "code",
   "execution_count": null,
   "id": "a8ea320c-2dca-409b-85ee-eaba920f5554",
   "metadata": {},
   "outputs": [],
   "source": [
    "Infered_seq = sample_wrong(tree, marginal_mean, marginal_precision, data_mean)"
   ]
  },
  {
   "cell_type": "code",
   "execution_count": null,
   "id": "0eb66cb6-3848-406a-9ada-d804367dc595",
   "metadata": {},
   "outputs": [],
   "source": [
    "tree[1][:seq]"
   ]
  },
  {
   "cell_type": "code",
   "execution_count": null,
   "id": "f740de39-fca8-44a7-8d12-b82734043482",
   "metadata": {},
   "outputs": [],
   "source": [
    "leaves[9][:binary_seq] .+ data_mean"
   ]
  },
  {
   "cell_type": "code",
   "execution_count": null,
   "id": "a06b5fef-1c6d-4222-bc54-01f5445ea658",
   "metadata": {},
   "outputs": [],
   "source": []
  }
 ],
 "metadata": {
  "kernelspec": {
   "display_name": "Julia 1.10.5",
   "language": "julia",
   "name": "julia-1.10"
  },
  "language_info": {
   "file_extension": ".jl",
   "mimetype": "application/julia",
   "name": "julia",
   "version": "1.10.5"
  }
 },
 "nbformat": 4,
 "nbformat_minor": 5
}
